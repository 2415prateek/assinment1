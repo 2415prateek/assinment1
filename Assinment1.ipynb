{
 "cells": [
  {
   "cell_type": "markdown",
   "id": "20b188a6-e77a-494e-b3bb-6782fba707d9",
   "metadata": {},
   "source": [
    "Ans-1"
   ]
  },
  {
   "cell_type": "markdown",
   "id": "aac89060-ebd1-404e-8e9e-16b2d36b4f87",
   "metadata": {},
   "source": [
    "def keyword is used to create the Function"
   ]
  },
  {
   "cell_type": "code",
   "execution_count": 4,
   "id": "50ff16e8-c0c8-4156-97f4-a2fd9517428e",
   "metadata": {},
   "outputs": [],
   "source": [
    "def odd(n):\n",
    "    for i in range(1,n+1):\n",
    "        print(i)"
   ]
  },
  {
   "cell_type": "code",
   "execution_count": 5,
   "id": "6bc8fbfe-4304-456c-a0de-5e5c33514055",
   "metadata": {},
   "outputs": [
    {
     "name": "stdout",
     "output_type": "stream",
     "text": [
      "1\n",
      "2\n",
      "3\n",
      "4\n",
      "5\n",
      "6\n",
      "7\n",
      "8\n",
      "9\n",
      "10\n",
      "11\n",
      "12\n",
      "13\n",
      "14\n",
      "15\n",
      "16\n",
      "17\n",
      "18\n",
      "19\n",
      "20\n",
      "21\n",
      "22\n",
      "23\n",
      "24\n",
      "25\n"
     ]
    }
   ],
   "source": [
    "odd(25)"
   ]
  },
  {
   "cell_type": "markdown",
   "id": "2f7251a2-192f-4c26-820f-5ff7e4b5a399",
   "metadata": {},
   "source": [
    "Ans-2"
   ]
  },
  {
   "cell_type": "markdown",
   "id": "c73b3195-9dca-44cb-bf40-33551b56634e",
   "metadata": {},
   "source": [
    "*args is used to pass a variable number of non keyword(poositional)argument to a function .\n",
    "**kwargs is used to pass a variable no of keyword arguments(or named arguments)to a function."
   ]
  },
  {
   "cell_type": "code",
   "execution_count": 10,
   "id": "6449db32-456d-4d1a-bfba-b56351f72019",
   "metadata": {},
   "outputs": [],
   "source": [
    "def ex_function_with_args(*args):\n",
    "    print(\"Arguments Passes:\",args)\n",
    "    for arg in args :\n",
    "        print(\"Argument :\",arg)"
   ]
  },
  {
   "cell_type": "code",
   "execution_count": 8,
   "id": "c0b23dff-6b5f-424d-957b-998b602c77b6",
   "metadata": {},
   "outputs": [],
   "source": [
    "def ex_function_with_kwargs(**kwargs):\n",
    "    print(\"Keyword argument passed : \",kwargs)\n",
    "    for key,value in kwargs.items():\n",
    "        print(f\"{key}:{value}\")"
   ]
  },
  {
   "cell_type": "code",
   "execution_count": 11,
   "id": "5dd205aa-0903-4377-af06-be01ab1fd645",
   "metadata": {},
   "outputs": [
    {
     "name": "stdout",
     "output_type": "stream",
     "text": [
      "Arguments Passes: (1, 2, 3, 'four', 5.0)\n",
      "Argument : 1\n",
      "Argument : 2\n",
      "Argument : 3\n",
      "Argument : four\n",
      "Argument : 5.0\n"
     ]
    }
   ],
   "source": [
    "ex_function_with_args(1,2,3,\"four\",5.0)"
   ]
  },
  {
   "cell_type": "code",
   "execution_count": 12,
   "id": "8d000d0e-0659-490f-9ec6-f69a73c33d63",
   "metadata": {},
   "outputs": [
    {
     "name": "stdout",
     "output_type": "stream",
     "text": [
      "Keyword argument passed :  {'name': 'Prateek', 'age': 23, 'city': 'Hardoi'}\n",
      "name:Prateek\n",
      "age:23\n",
      "city:Hardoi\n"
     ]
    }
   ],
   "source": [
    "ex_function_with_kwargs(name=\"Prateek\",age=23,city = \"Hardoi\")"
   ]
  },
  {
   "cell_type": "markdown",
   "id": "6515e333-b455-4ad3-8206-adb0489fff7b",
   "metadata": {},
   "source": [
    "Ans-3"
   ]
  },
  {
   "cell_type": "markdown",
   "id": "a687f066-e8b2-42a6-b34e-6cc9cfc46b4e",
   "metadata": {},
   "source": [
    "In python ,an iterator is an object that represents a stream of data and is used to iterate over the element in a sequence one at a time "
   ]
  },
  {
   "cell_type": "code",
   "execution_count": 14,
   "id": "d2af5b90-cf1a-4ffb-b9b4-bd07bfae5074",
   "metadata": {},
   "outputs": [
    {
     "name": "stdout",
     "output_type": "stream",
     "text": [
      "2\n",
      "4\n",
      "6\n",
      "8\n",
      "10\n"
     ]
    }
   ],
   "source": [
    "my_list = [2,4,6,8,10,12,14,16,18,20]\n",
    "my_iterator =iter(my_list)#iter funtion is used to iterate\n",
    "\n",
    "for element in range(5):\n",
    "    element = next(my_iterator)\n",
    "    print(element)"
   ]
  },
  {
   "cell_type": "markdown",
   "id": "c23b490e-2d1a-4ba0-82b1-5d9399b95cdf",
   "metadata": {},
   "source": [
    "Ans-4"
   ]
  },
  {
   "cell_type": "markdown",
   "id": "c00967f3-ab11-4f0b-bb5d-18a77f01c45a",
   "metadata": {},
   "source": [
    "A generator function in python is a special type of function that allows you to iterate over a potentially large set of data without generating the entire set at in once in memory.it use\"yield\" keyword to produce a series of values one at a time during each iteration and state the function is saved between the successive call."
   ]
  },
  {
   "cell_type": "code",
   "execution_count": 15,
   "id": "d460aea8-8b2e-4e02-81bc-f75740a9c09f",
   "metadata": {},
   "outputs": [],
   "source": [
    "def fibonacci_gen(n):\n",
    "    \"\"\"Generate the First N Fibonacci number\"\"\"\n",
    "    a,b = 0,1\n",
    "    count = 0\n",
    "    while count < n :\n",
    "        yield a\n",
    "        a,b =b,a+b\n",
    "        count+=1"
   ]
  },
  {
   "cell_type": "code",
   "execution_count": 17,
   "id": "113788eb-75cc-4024-b48e-82a021b97777",
   "metadata": {},
   "outputs": [
    {
     "name": "stdout",
     "output_type": "stream",
     "text": [
      "0\n",
      "1\n",
      "1\n",
      "2\n",
      "3\n",
      "5\n",
      "8\n",
      "13\n",
      "21\n",
      "34\n"
     ]
    }
   ],
   "source": [
    "result=fibonacci_gen(10)\n",
    "for number in result:\n",
    "    print(number)"
   ]
  },
  {
   "cell_type": "markdown",
   "id": "f68bb761-f2a8-44a0-85b3-2da3a54f74e6",
   "metadata": {},
   "source": [
    "ans-5"
   ]
  },
  {
   "cell_type": "code",
   "execution_count": 20,
   "id": "82e85202-a3e1-406a-bed9-b99be2ef55f0",
   "metadata": {},
   "outputs": [
    {
     "name": "stdout",
     "output_type": "stream",
     "text": [
      "2\n",
      "3\n",
      "5\n",
      "7\n",
      "11\n",
      "13\n",
      "17\n",
      "19\n",
      "23\n",
      "29\n",
      "31\n",
      "37\n",
      "41\n",
      "43\n",
      "47\n",
      "53\n",
      "59\n",
      "61\n",
      "67\n",
      "71\n"
     ]
    }
   ],
   "source": [
    "def is_prime(num):\n",
    "    if num < 2:\n",
    "        return False\n",
    "    for i in range(2,int(num*0.5)+1):\n",
    "        if num%i ==0:\n",
    "            return False\n",
    "    return True\n",
    "\n",
    "def prime_generator():\n",
    "    \"\"\"Generate the prime number less than 1000.\"\"\"\n",
    "    num = 2\n",
    "    while num<1000:\n",
    "        if is_prime(num):\n",
    "            yield(num)\n",
    "        num+=1\n",
    "        \n",
    "prime_gen = prime_generator()\n",
    "for prime_num in range(20):\n",
    "    prime_num = next(prime_gen)\n",
    "    print(prime_num)\n",
    "\n",
    "    "
   ]
  },
  {
   "cell_type": "markdown",
   "id": "bb419e8f-bf27-441e-9388-d138043efe24",
   "metadata": {},
   "source": [
    "ans-6`"
   ]
  },
  {
   "cell_type": "code",
   "execution_count": 25,
   "id": "c0945772-228b-4e74-aeab-08aaed0af38f",
   "metadata": {},
   "outputs": [
    {
     "name": "stdout",
     "output_type": "stream",
     "text": [
      "0 1 1 2 3 5 8 13 21 34 "
     ]
    }
   ],
   "source": [
    "def  print_fibonacci(num):\n",
    "    a,b =0,1\n",
    "    count = 0\n",
    "    while count<num:\n",
    "        print(a,end=\" \")\n",
    "        a,b=b,a+b\n",
    "        count+=1\n",
    "print_fibonacci(10)"
   ]
  },
  {
   "cell_type": "markdown",
   "id": "242b3669-a330-4970-bbba-0ed6535106c9",
   "metadata": {},
   "source": [
    "ans-7"
   ]
  },
  {
   "cell_type": "code",
   "execution_count": 27,
   "id": "76e0643d-70ee-4e86-8ea1-b69cec3e5ecc",
   "metadata": {},
   "outputs": [
    {
     "name": "stdout",
     "output_type": "stream",
     "text": [
      "['p', 'w', 's', 'k', 'i', 'l', 'l']\n"
     ]
    }
   ],
   "source": [
    "my_string = \"pwskill\"\n",
    "result = [i for i in my_string]\n",
    "print(result)"
   ]
  },
  {
   "cell_type": "markdown",
   "id": "0de5349b-6f47-4726-b669-11c20b228ae2",
   "metadata": {},
   "source": [
    "Ans8"
   ]
  },
  {
   "cell_type": "code",
   "execution_count": 30,
   "id": "d34ed11c-7298-498b-9e5d-f972174162be",
   "metadata": {},
   "outputs": [
    {
     "name": "stdin",
     "output_type": "stream",
     "text": [
      "Enter a number : 6336\n"
     ]
    },
    {
     "name": "stdout",
     "output_type": "stream",
     "text": [
      "6336 is a palindrome.\n"
     ]
    }
   ],
   "source": [
    "def is_palindrome(number):\n",
    "    original_number = number\n",
    "    reversed_number = 0\n",
    "    while number > 0:\n",
    "        digit = number%10\n",
    "        reversed_number = reversed_number*10+digit\n",
    "        number = number//10\n",
    "    return original_number == reversed_number\n",
    "\n",
    "\n",
    "num= int(input(\"Enter a number :\"))\n",
    "if is_palindrome(num):\n",
    "    print(f\"{num} is a palindrome.\")\n",
    "    \n",
    "else :\n",
    "    print(F\"{num} is not a palindrome\")"
   ]
  },
  {
   "cell_type": "markdown",
   "id": "46b24fb1-7f50-427b-9fa9-b89537f755aa",
   "metadata": {},
   "source": [
    "ans-9"
   ]
  },
  {
   "cell_type": "code",
   "execution_count": 31,
   "id": "54d85106-317a-4f6e-840f-331983027be2",
   "metadata": {},
   "outputs": [
    {
     "name": "stdout",
     "output_type": "stream",
     "text": [
      "[1, 3, 5, 7, 9, 11, 13, 15, 17, 19, 21, 23, 25, 27, 29, 31, 33, 35, 37, 39, 41, 43, 45, 47, 49, 51, 53, 55, 57, 59, 61, 63, 65, 67, 69, 71, 73, 75, 77, 79, 81, 83, 85, 87, 89, 91, 93, 95, 97, 99]\n"
     ]
    }
   ],
   "source": [
    "result = [i for i in range(1,100) if i%2!=0]\n",
    "print(result)"
   ]
  },
  {
   "cell_type": "code",
   "execution_count": null,
   "id": "fa92c2c7-fbaf-404b-ab7b-36d5bc718460",
   "metadata": {},
   "outputs": [],
   "source": []
  }
 ],
 "metadata": {
  "kernelspec": {
   "display_name": "Python 3 (ipykernel)",
   "language": "python",
   "name": "python3"
  },
  "language_info": {
   "codemirror_mode": {
    "name": "ipython",
    "version": 3
   },
   "file_extension": ".py",
   "mimetype": "text/x-python",
   "name": "python",
   "nbconvert_exporter": "python",
   "pygments_lexer": "ipython3",
   "version": "3.10.8"
  }
 },
 "nbformat": 4,
 "nbformat_minor": 5
}
